{
 "cells": [
  {
   "cell_type": "code",
   "execution_count": 19,
   "metadata": {},
   "outputs": [],
   "source": [
    "from langchain_google_genai import ChatGoogleGenerativeAI\n",
    "from langchain.vectorstores import Chroma\n",
    "from langchain_ollama import OllamaEmbeddings\n",
    "from langchain.document_loaders import PyPDFLoader,DirectoryLoader\n",
    "from langchain.text_splitter import RecursiveCharacterTextSplitter\n",
    "from langchain.schema import Document"
   ]
  },
  {
   "cell_type": "code",
   "execution_count": 7,
   "metadata": {},
   "outputs": [
    {
     "name": "stderr",
     "output_type": "stream",
     "text": [
      "100%|██████████| 4/4 [00:00<00:00, 82.64it/s]\n"
     ]
    }
   ],
   "source": [
    "loader  = DirectoryLoader(\n",
    "    path = 'directory_loader_multiple_pdfs',\n",
    "    glob = '*.pdf',\n",
    "    loader_cls = PyPDFLoader,\n",
    "    show_progress=True,\n",
    ")\n",
    "document_list = loader.load()\n",
    "\n",
    "splitter = RecursiveCharacterTextSplitter(\n",
    "    chunk_size = 512,\n",
    "    chunk_overlap = 70\n",
    ")\n",
    "\n",
    "data_list = splitter.split_documents(document_list)\n",
    "\n",
    "embedding  = OllamaEmbeddings(model = 'nomic-embed-text:latest')\n"
   ]
  },
  {
   "cell_type": "code",
   "execution_count": null,
   "metadata": {},
   "outputs": [
    {
     "name": "stderr",
     "output_type": "stream",
     "text": [
      "C:\\Users\\ACER\\AppData\\Local\\Temp\\ipykernel_17908\\3393577737.py:3: LangChainDeprecationWarning: The class `Chroma` was deprecated in LangChain 0.2.9 and will be removed in 1.0. An updated version of the class exists in the :class:`~langchain-chroma package and should be used instead. To use it run `pip install -U :class:`~langchain-chroma` and import as `from :class:`~langchain_chroma import Chroma``.\n",
      "  vector_store = Chroma(\n"
     ]
    }
   ],
   "source": [
    "#creation of a vector store\n",
    "'''If the persist_directory exists and contains the data for the collection (in this case, chroma_vector_store), it will load the collection from disk.\n",
    "\n",
    "If the collection does not exist in the specified directory, it will create a new collection and save it to persist_directory.'''\n",
    "\n",
    "vector_store = Chroma(\n",
    "    \n",
    "    embedding_function = embedding,\n",
    "\n",
    "    collection_name = 'chroma_vector_store',\n",
    "\n",
    "    persist_directory = './chroma_store'\n",
    "    \n",
    ")"
   ]
  },
  {
   "cell_type": "code",
   "execution_count": 11,
   "metadata": {},
   "outputs": [
    {
     "data": {
      "text/plain": [
       "['a9ac1f89-55e2-4861-b111-07a38d045eff',\n",
       " '0960a4d6-8de8-428c-8929-9e2fbb3a495f',\n",
       " 'f3069d6b-e74b-4dcd-88d8-04b1187ff38c',\n",
       " '6177734b-51e8-4b8e-96d7-b0d51bcafcd3',\n",
       " '1cc9edbe-0b3b-4aa7-9149-860d5dd0556f',\n",
       " '1cf8ae09-ff18-42ea-acba-d44950f7a8a1',\n",
       " 'cfa8e91a-4db7-42b8-8283-ac4bdc5dd8f5',\n",
       " '980f17a9-2716-411b-9fb7-20b4f2ac2d36',\n",
       " 'c1383945-1993-47ce-ba61-8ad499288bc7',\n",
       " '0e651775-b68f-4530-88bf-89b3b5855eee']"
      ]
     },
     "execution_count": 11,
     "metadata": {},
     "output_type": "execute_result"
    }
   ],
   "source": [
    "#add documents to vector store\n",
    "\n",
    "vector_store.add_documents(data_list)"
   ]
  },
  {
   "cell_type": "code",
   "execution_count": null,
   "metadata": {},
   "outputs": [
    {
     "data": {
      "text/plain": [
       "{'ids': ['a9ac1f89-55e2-4861-b111-07a38d045eff',\n",
       "  '0960a4d6-8de8-428c-8929-9e2fbb3a495f',\n",
       "  'f3069d6b-e74b-4dcd-88d8-04b1187ff38c',\n",
       "  '6177734b-51e8-4b8e-96d7-b0d51bcafcd3',\n",
       "  '1cc9edbe-0b3b-4aa7-9149-860d5dd0556f',\n",
       "  '1cf8ae09-ff18-42ea-acba-d44950f7a8a1',\n",
       "  'cfa8e91a-4db7-42b8-8283-ac4bdc5dd8f5',\n",
       "  '980f17a9-2716-411b-9fb7-20b4f2ac2d36',\n",
       "  'c1383945-1993-47ce-ba61-8ad499288bc7',\n",
       "  '0e651775-b68f-4530-88bf-89b3b5855eee'],\n",
       " 'embeddings': array([[ 0.07717554,  0.09940337, -0.16076249, ..., -0.02403516,\n",
       "         -0.04476668, -0.01540614],\n",
       "        [ 0.06954544,  0.08045968, -0.14963539, ..., -0.056909  ,\n",
       "         -0.06617349,  0.00544581],\n",
       "        [ 0.06440519,  0.06564847, -0.12002006, ..., -0.04753906,\n",
       "         -0.06959679, -0.01387606],\n",
       "        ...,\n",
       "        [ 0.04232399,  0.09997242, -0.15869728, ..., -0.05635781,\n",
       "         -0.04079562, -0.00146791],\n",
       "        [ 0.05576308,  0.08182313, -0.17179872, ..., -0.03085197,\n",
       "         -0.03499945, -0.01657544],\n",
       "        [ 0.08746433,  0.07263037, -0.20524992, ..., -0.04025982,\n",
       "         -0.01471973,  0.01375828]], shape=(10, 768)),\n",
       " 'documents': [\"Light Speed and Mass Increase\\nIntroduction to Light Speed and Special Relativity\\nLight speed, approximately 299,792 kilometers per second, is a fundamental constant in physics. Albert\\nEinstein's theory of Special Relativity introduced the idea that the laws of physics are the same for all\\nnon-accelerating observers and that the speed of light is independent of the motion of the light source.\",\n",
       "  \"Light Speed and Mass Increase\\nHow Mass Changes With Speed\\nAs an object moves faster and approaches the speed of light, its mass effectively increases. This\\nphenomenon is called 'relativistic mass increase.' In simpler terms, the faster something moves, the heavier it\\nbecomes, making it increasingly difficult to accelerate the object further.\",\n",
       "  'Light Speed and Mass Increase\\nMathematical Explanation of Relativistic Mass\\nThe formula for relativistic mass is: m = m0 / sqrt(1 - v^2/c^2), where m0 is the rest mass, v is the velocity of\\nthe object, and c is the speed of light. As the velocity v approaches c, the denominator approaches zero, and\\nthus the mass approaches infinity. This makes reaching light speed impossible for any object with mass.',\n",
       "  \"Light Speed and Mass Increase\\nReal-World Examples and Conclusion\\nParticle accelerators, like CERN's Large Hadron Collider, experience relativistic mass effects daily.\\nSubatomic particles moving at near-light speeds become much heavier than when at rest. In conclusion, light\\nspeed sets a universal speed limit, and the mass increase ensures that no object with mass can reach or\\nexceed it, preserving the structure of spacetime itself.\",\n",
       "  'Space Science Topics\\nHow Space-Time Bends Around Mass\\nSpace-time is like a fabric that fills the whole universe. Big things like planets and stars sit on this\\nfabric and bend it. Think about placing a heavy ball on a stretched-out rubber sheet. The ball makes\\na dent, and smaller balls roll toward it. In the same way, planets and stars bend space-time around\\nthem, and this bending is what we feel as gravity. When the Sun bends space-time, the Earth',\n",
       "  'moves around it because it is following the curved space. Even light bends when it moves near a big\\nmass! Scientists have observed this when light from distant stars bends around massive objects like\\ngalaxies. This shows that space-time is not just empty space; it can curve and move.',\n",
       "  \"Space Science Topics\\nThe Speed of Light - Nature's Ultimate Speed Limit\\nThe speed of light is the fastest anything can travel. In a vacuum, like space, light moves at about\\n299,792 kilometers per second (around 186,000 miles per second). Nothing can go faster. Einstein's\\ntheories show that as you move faster and faster, it gets harder and harder to gain more speed. At\\nthe speed of light, it would take infinite energy to keep going. This is why humans and spaceships\",\n",
       "  'can never travel at light speed. Light itself is made of tiny particles called photons, which have no\\nmass. Because of this, they can move at this incredible speed naturally. The speed of light also\\nhelps scientists measure distances in space, using \"light-years\" to describe how far away stars and\\ngalaxies are.',\n",
       "  \"Space Science Topics\\nTime Dilation Explained Simply\\nTime dilation is a concept from Einstein's theory of relativity. It tells us that time does not pass the\\nsame way for everyone. If someone moves very fast, close to the speed of light, time slows down for\\nthem compared to someone who is not moving. Imagine twins: one stays on Earth, and one travels\\ninto space at near light speed. When the traveling twin comes back, they will be younger than the\",\n",
       "  'twin who stayed on Earth! This is because moving very fast stretches time. Scientists have proven\\ntime dilation with experiments using very accurate clocks on fast-moving airplanes and satellites.\\nTime dilation is real, and it affects things like GPS systems, which need to account for it to stay\\naccurate.'],\n",
       " 'uris': None,\n",
       " 'data': None,\n",
       " 'metadatas': [{'creationdate': 'D:20250426191014',\n",
       "   'creator': 'PyPDF',\n",
       "   'page': 0,\n",
       "   'page_label': '1',\n",
       "   'producer': 'PyFPDF 1.7.2 http://pyfpdf.googlecode.com/',\n",
       "   'source': 'directory_loader_multiple_pdfs\\\\light_speed_mass_increase.pdf',\n",
       "   'total_pages': 4},\n",
       "  {'creationdate': 'D:20250426191014',\n",
       "   'creator': 'PyPDF',\n",
       "   'page': 1,\n",
       "   'page_label': '2',\n",
       "   'producer': 'PyFPDF 1.7.2 http://pyfpdf.googlecode.com/',\n",
       "   'source': 'directory_loader_multiple_pdfs\\\\light_speed_mass_increase.pdf',\n",
       "   'total_pages': 4},\n",
       "  {'creationdate': 'D:20250426191014',\n",
       "   'creator': 'PyPDF',\n",
       "   'page': 2,\n",
       "   'page_label': '3',\n",
       "   'producer': 'PyFPDF 1.7.2 http://pyfpdf.googlecode.com/',\n",
       "   'source': 'directory_loader_multiple_pdfs\\\\light_speed_mass_increase.pdf',\n",
       "   'total_pages': 4},\n",
       "  {'creationdate': 'D:20250426191014',\n",
       "   'creator': 'PyPDF',\n",
       "   'page': 3,\n",
       "   'page_label': '4',\n",
       "   'producer': 'PyFPDF 1.7.2 http://pyfpdf.googlecode.com/',\n",
       "   'source': 'directory_loader_multiple_pdfs\\\\light_speed_mass_increase.pdf',\n",
       "   'total_pages': 4},\n",
       "  {'creationdate': 'D:20250426173945',\n",
       "   'creator': 'PyPDF',\n",
       "   'page': 0,\n",
       "   'page_label': '1',\n",
       "   'producer': 'PyFPDF 1.7.2 http://pyfpdf.googlecode.com/',\n",
       "   'source': 'directory_loader_multiple_pdfs\\\\space_time_bending.pdf',\n",
       "   'total_pages': 1},\n",
       "  {'creationdate': 'D:20250426173945',\n",
       "   'creator': 'PyPDF',\n",
       "   'page': 0,\n",
       "   'page_label': '1',\n",
       "   'producer': 'PyFPDF 1.7.2 http://pyfpdf.googlecode.com/',\n",
       "   'source': 'directory_loader_multiple_pdfs\\\\space_time_bending.pdf',\n",
       "   'total_pages': 1},\n",
       "  {'creationdate': 'D:20250426173945',\n",
       "   'creator': 'PyPDF',\n",
       "   'page': 0,\n",
       "   'page_label': '1',\n",
       "   'producer': 'PyFPDF 1.7.2 http://pyfpdf.googlecode.com/',\n",
       "   'source': 'directory_loader_multiple_pdfs\\\\speed_of_light.pdf',\n",
       "   'total_pages': 1},\n",
       "  {'creationdate': 'D:20250426173945',\n",
       "   'creator': 'PyPDF',\n",
       "   'page': 0,\n",
       "   'page_label': '1',\n",
       "   'producer': 'PyFPDF 1.7.2 http://pyfpdf.googlecode.com/',\n",
       "   'source': 'directory_loader_multiple_pdfs\\\\speed_of_light.pdf',\n",
       "   'total_pages': 1},\n",
       "  {'creationdate': 'D:20250426173945',\n",
       "   'creator': 'PyPDF',\n",
       "   'page': 0,\n",
       "   'page_label': '1',\n",
       "   'producer': 'PyFPDF 1.7.2 http://pyfpdf.googlecode.com/',\n",
       "   'source': 'directory_loader_multiple_pdfs\\\\time_dilation.pdf',\n",
       "   'total_pages': 1},\n",
       "  {'creationdate': 'D:20250426173945',\n",
       "   'creator': 'PyPDF',\n",
       "   'page': 0,\n",
       "   'page_label': '1',\n",
       "   'producer': 'PyFPDF 1.7.2 http://pyfpdf.googlecode.com/',\n",
       "   'source': 'directory_loader_multiple_pdfs\\\\time_dilation.pdf',\n",
       "   'total_pages': 1}],\n",
       " 'included': [<IncludeEnum.embeddings: 'embeddings'>,\n",
       "  <IncludeEnum.documents: 'documents'>,\n",
       "  <IncludeEnum.metadatas: 'metadatas'>]}"
      ]
     },
     "execution_count": 12,
     "metadata": {},
     "output_type": "execute_result"
    }
   ],
   "source": [
    "#\n",
    "\n",
    "vector_store.get(include = ['embeddings','documents','metadatas'])"
   ]
  },
  {
   "cell_type": "code",
   "execution_count": 18,
   "metadata": {},
   "outputs": [
    {
     "name": "stdout",
     "output_type": "stream",
     "text": [
      "page_content='Light Speed and Mass Increase\n",
      "Real-World Examples and Conclusion\n",
      "Particle accelerators, like CERN's Large Hadron Collider, experience relativistic mass effects daily.\n",
      "Subatomic particles moving at near-light speeds become much heavier than when at rest. In conclusion, light\n",
      "speed sets a universal speed limit, and the mass increase ensures that no object with mass can reach or\n",
      "exceed it, preserving the structure of spacetime itself.' metadata={'creationdate': 'D:20250426191014', 'creator': 'PyPDF', 'page': 3, 'page_label': '4', 'producer': 'PyFPDF 1.7.2 http://pyfpdf.googlecode.com/', 'source': 'directory_loader_multiple_pdfs\\\\light_speed_mass_increase.pdf', 'total_pages': 4}\n",
      "\n",
      "page_content='Light Speed and Mass Increase\n",
      "Introduction to Light Speed and Special Relativity\n",
      "Light speed, approximately 299,792 kilometers per second, is a fundamental constant in physics. Albert\n",
      "Einstein's theory of Special Relativity introduced the idea that the laws of physics are the same for all\n",
      "non-accelerating observers and that the speed of light is independent of the motion of the light source.' metadata={'creationdate': 'D:20250426191014', 'creator': 'PyPDF', 'page': 0, 'page_label': '1', 'producer': 'PyFPDF 1.7.2 http://pyfpdf.googlecode.com/', 'source': 'directory_loader_multiple_pdfs\\\\light_speed_mass_increase.pdf', 'total_pages': 4}\n",
      "\n"
     ]
    }
   ],
   "source": [
    "#first way of similarity search\n",
    "\n",
    "data = vector_store.similarity_search(\n",
    "\n",
    "    query='what happens at light speed',\n",
    "\n",
    "    k=2\n",
    ")\n",
    "\n",
    "for i in data:\n",
    "    \n",
    "    print(f\"{i}\\n\")"
   ]
  },
  {
   "cell_type": "code",
   "execution_count": null,
   "metadata": {},
   "outputs": [
    {
     "name": "stdout",
     "output_type": "stream",
     "text": [
      "Light Speed and Mass Increase\n",
      "Real-World Examples and Conclusion\n",
      "Particle accelerators, like CERN's Large Hadron Collider, experience relativistic mass effects daily.\n",
      "Subatomic particles moving at near-light speeds become much heavier than when at rest. In conclusion, light\n",
      "speed sets a universal speed limit, and the mass increase ensures that no object with mass can reach or\n",
      "exceed it, preserving the structure of spacetime itself.\n",
      "\n",
      "Light Speed and Mass Increase\n",
      "Introduction to Light Speed and Special Relativity\n",
      "Light speed, approximately 299,792 kilometers per second, is a fundamental constant in physics. Albert\n",
      "Einstein's theory of Special Relativity introduced the idea that the laws of physics are the same for all\n",
      "non-accelerating observers and that the speed of light is independent of the motion of the light source.\n",
      "\n"
     ]
    }
   ],
   "source": [
    "#second way of similar retrival using retriever\n",
    "\n",
    "retriever = vector_store.as_retriever(search_type = 'similarity',search_kwargs={\"k\":2})\n",
    "\n",
    "result = retriever.invoke('what happens at light speed')\n",
    "\n",
    "for i in result:\n",
    "    \n",
    "    print(f\"{i.page_content}\\n\")\n"
   ]
  },
  {
   "cell_type": "code",
   "execution_count": 20,
   "metadata": {},
   "outputs": [
    {
     "data": {
      "text/plain": [
       "['9d2e4b6f-69c0-48b7-adb8-9c2cdb6bd63d']"
      ]
     },
     "execution_count": 20,
     "metadata": {},
     "output_type": "execute_result"
    }
   ],
   "source": [
    "#add more documents in existing store\n",
    "\n",
    "vector_store.add_documents(\n",
    "    [Document(\n",
    "        page_content=\"Hello world\", \n",
    "        metadata={\"source\": \"hello.pdf\"})])"
   ]
  },
  {
   "cell_type": "code",
   "execution_count": 23,
   "metadata": {},
   "outputs": [
    {
     "name": "stdout",
     "output_type": "stream",
     "text": [
      "Space Science Topics\n",
      "How Space-Time Bends Around Mass\n",
      "Space-time is like a fabric that fills the whole universe. Big things like planets and stars sit on this\n",
      "fabric and bend it. Think about placing a heavy ball on a stretched-out rubber sheet. The ball makes\n",
      "a dent, and smaller balls roll toward it. In the same way, planets and stars bend space-time around\n",
      "them, and this bending is what we feel as gravity. When the Sun bends space-time, the Earth\n"
     ]
    }
   ],
   "source": [
    "result = vector_store.similarity_search(\n",
    "\n",
    "    query=\"Hello world\",\n",
    "\n",
    "    k=1\n",
    ")\n",
    "\n",
    "print(result[0].page_content)"
   ]
  },
  {
   "cell_type": "code",
   "execution_count": 22,
   "metadata": {},
   "outputs": [],
   "source": [
    "#if i want to delete a document\n",
    "\n",
    "vector_store.delete(ids = ['9d2e4b6f-69c0-48b7-adb8-9c2cdb6bd63d'])\n"
   ]
  },
  {
   "cell_type": "code",
   "execution_count": null,
   "metadata": {},
   "outputs": [],
   "source": []
  }
 ],
 "metadata": {
  "kernelspec": {
   "display_name": "env",
   "language": "python",
   "name": "python3"
  },
  "language_info": {
   "codemirror_mode": {
    "name": "ipython",
    "version": 3
   },
   "file_extension": ".py",
   "mimetype": "text/x-python",
   "name": "python",
   "nbconvert_exporter": "python",
   "pygments_lexer": "ipython3",
   "version": "3.10.0"
  }
 },
 "nbformat": 4,
 "nbformat_minor": 2
}
